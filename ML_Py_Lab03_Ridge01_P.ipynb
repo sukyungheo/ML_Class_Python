{
 "cells": [
  {
   "cell_type": "markdown",
   "metadata": {},
   "source": [
    "## 03 Boston 데이터 셋 회귀 모델 적용\n",
    "<pre>\n",
    "(가) 사전 준비(데이터 셋 로드)\n",
    "(나) 모델 만들고 훈련, 테스트 데이터 점수 확인\n",
    "(다) 릿지 회귀(Ridge)\n",
    "(라) 릿지 회귀(Ridge)와 선형회귀 비교\n",
    "</pre>"
   ]
  },
  {
   "cell_type": "markdown",
   "metadata": {},
   "source": [
    "## 01. 사전 준비 - 보스턴 데이터 셋 Load"
   ]
  },
  {
   "cell_type": "code",
   "execution_count": 58,
   "metadata": {
    "collapsed": true
   },
   "outputs": [],
   "source": [
    "from sklearn.datasets import load_boston\n",
    "from sklearn.model_selection import train_test_split\n",
    "from sklearn.linear_model import LinearRegression\n",
    "from sklearn.preprocessing import MinMaxScaler, PolynomialFeatures\n",
    "from sklearn.linear_model import Ridge   # 릿지회귀\n",
    "import matplotlib.pyplot as plt\n",
    "\n",
    "# 한글\n",
    "import matplotlib\n",
    "from matplotlib import font_manager, rc\n",
    "font_loc = \"C:/Windows/Fonts/malgunbd.ttf\"\n",
    "font_name = font_manager.FontProperties(fname=font_loc).get_name()\n",
    "matplotlib.rc('font', family=font_name)\n",
    "\n",
    "%matplotlib inline"
   ]
  },
  {
   "cell_type": "code",
   "execution_count": 59,
   "metadata": {
    "collapsed": true
   },
   "outputs": [],
   "source": [
    "def load_extended_boston():\n",
    "    boston = load_boston()  # 데이터 셋 불러오기\n",
    "    X = boston.data         # 입력 데이터 \n",
    "    \n",
    "    X = MinMaxScaler().fit_transform(boston.data)  # 입력 데이터 정규화\n",
    "    X = PolynomialFeatures(degree=2, include_bias=False).fit_transform(X)\n",
    "    return X, boston.target"
   ]
  },
  {
   "cell_type": "code",
   "execution_count": 60,
   "metadata": {},
   "outputs": [
    {
     "name": "stdout",
     "output_type": "stream",
     "text": [
      "(506, 104) (506,)\n"
     ]
    }
   ],
   "source": [
    "X, y = load_extended_boston()\n",
    "print(X.shape, y.shape)"
   ]
  },
  {
   "cell_type": "markdown",
   "metadata": {},
   "source": [
    "## 02. 사전 준비 - 모델 만들고 훈련, 테스트 데이터 점수 확인\n",
    "<pre>\n",
    "성능 차이는 우리는 이를 모델(훈련용)이 과대 적합(Overfitting)라고 말할 수 있다.\n",
    "</pre>"
   ]
  },
  {
   "cell_type": "code",
   "execution_count": 61,
   "metadata": {},
   "outputs": [
    {
     "name": "stdout",
     "output_type": "stream",
     "text": [
      "훈련 데이터 세트 점수 : 0.94\n",
      "테스트 데이터 세트 점수 : 0.79\n"
     ]
    }
   ],
   "source": [
    "X_train, X_test, y_train, y_test = train_test_split(X, y, random_state=42)\n",
    "lr = LinearRegression().fit(X_train, y_train)\n",
    "\n",
    "print(\"훈련 데이터 세트 점수 : {:.2f}\".format(lr.score(X_train, y_train)))\n",
    "print(\"테스트 데이터 세트 점수 : {:.2f}\".format(lr.score(X_test, y_test)))"
   ]
  },
  {
   "cell_type": "markdown",
   "metadata": {},
   "source": [
    "## 03. 릿지 회귀(Ridge) - (티호노프Tikhonov 규제)\n",
    "<pre>\n",
    "A. 모델을 복잡도를 제어한다.\n",
    "B. 방법은 가중치의 절대값을 가능한 작게 만드는 것이다.(기울기를 작게 만들기)\n",
    "   --> 규제(regularization)\n",
    "C. linear_model.Ridge 이용\n",
    "=> 적용 결과 : Ridge 적용 결과, 더 일반화된 모델이 된다.\n",
    "=> LinearRegression 보다 Ridge 모델을 선택해야 함.\n",
    "</pre>"
   ]
  },
  {
   "cell_type": "code",
   "execution_count": 62,
   "metadata": {},
   "outputs": [
    {
     "name": "stdout",
     "output_type": "stream",
     "text": [
      "훈련 세트 점수 : 0.87\n",
      "테스트 세트 점수 : 0.81\n"
     ]
    }
   ],
   "source": [
    "# from sklearn.linear_model import Ridge\n",
    "ridge = Ridge().fit(X_train, y_train)\n",
    "print(\"훈련 세트 점수 : {:.2f}\".format(ridge.score(X_train, y_train)))\n",
    "print(\"테스트 세트 점수 : {:.2f}\".format(ridge.score(X_test, y_test)))\n"
   ]
  },
  {
   "cell_type": "markdown",
   "metadata": {},
   "source": [
    "## 04. 릿지 회귀(Ridge)-alpha\n",
    "<pre>\n",
    "A. 앞의 예제는 alpha를 1.0으로 이용\n",
    "B. alpha는 데이터 셋에 달려있다.\n",
    "C. alpha는 모델을 얼마나 많이 규제할지 조절한다.\n",
    "</pre>\n",
    "<img src=\"img/ridge01.png\">"
   ]
  },
  {
   "cell_type": "code",
   "execution_count": 63,
   "metadata": {},
   "outputs": [
    {
     "name": "stdout",
     "output_type": "stream",
     "text": [
      "훈련 세트 점수 : 0.80\n",
      "테스트 세트 점수 : 0.76\n"
     ]
    }
   ],
   "source": [
    "ridge5 = Ridge(alpha=5).fit(X_train, y_train)\n",
    "print(\"훈련 세트 점수 : {:.2f}\".format(ridge5.score(X_train, y_train)))\n",
    "print(\"테스트 세트 점수 : {:.2f}\".format(ridge5.score(X_test, y_test)))"
   ]
  },
  {
   "cell_type": "markdown",
   "metadata": {},
   "source": [
    "## 실습과제 1\n",
    "<pre>\n",
    "(가) alpha = 0.00001로 지정 후, 점수를 구해보자.\n",
    "(나) 위의 평가 점수는 어떤 점수와 비슷한가?, alpha의 값을 줄이면 어떤 모델과 거의 비슷해 지는가?\n",
    "</pre>"
   ]
  },
  {
   "cell_type": "code",
   "execution_count": 64,
   "metadata": {},
   "outputs": [
    {
     "name": "stdout",
     "output_type": "stream",
     "text": [
      "훈련 세트 점수 : 0.94\n",
      "테스트 세트 점수 : 0.79\n"
     ]
    }
   ],
   "source": []
  },
  {
   "cell_type": "code",
   "execution_count": 65,
   "metadata": {},
   "outputs": [
    {
     "name": "stdout",
     "output_type": "stream",
     "text": [
      "(104,)\n"
     ]
    },
    {
     "data": {
      "text/plain": [
       "array([ 0.10664892, -0.51386182,  0.3393437 , -0.75507706,  5.81283936,\n",
       "       -0.37466642, -3.08063128,  1.62371882, -1.06171789])"
      ]
     },
     "execution_count": 65,
     "metadata": {},
     "output_type": "execute_result"
    }
   ],
   "source": [
    "# ridge5 = Ridge(alpha=5).fit(X_train, y_train)\n",
    "print(ridge5.coef_.shape)\n",
    "ridge5.coef_[1:10]"
   ]
  },
  {
   "cell_type": "code",
   "execution_count": 66,
   "metadata": {
    "scrolled": true
   },
   "outputs": [
    {
     "data": {
      "image/png": "[encoded data removed]",
      "text/plain": [
       "<matplotlib.figure.Figure at 0x212c6fa8fd0>"
      ]
     },
     "metadata": {},
     "output_type": "display_data"
    }
   ],
   "source": [
    "ridge01 = Ridge(alpha=0.00001).fit(X_train, y_train)\n",
    "\n",
    "plt.plot(ridge01.coef_, \"^\", label=\"Ridge alpha=0.00001\")\n",
    "plt.plot(lr.coef_, 'o', label=\"LinearRegression\")\n",
    "\n",
    "\n",
    "plt.xlabel(\"계수 목록\")\n",
    "plt.ylabel(\"계수 크기\")\n",
    "plt.hlines(0,0, len(lr.coef_))\n",
    "plt.ylim(-25, 25)\n",
    "plt.legend()\n",
    "plt.show()"
   ]
  },
  {
   "cell_type": "markdown",
   "metadata": {},
   "source": [
    "## 실습과제 2\n",
    "<pre>\n",
    "(가) alpha = 10, 1, 0.1 일 때의 그래프를 표시해 보자.\n",
    "(나) alpha가 커질 수록 모델의 계수는 어떻게 되는가?\n",
    "</pre>"
   ]
  },
  {
   "cell_type": "code",
   "execution_count": 67,
   "metadata": {},
   "outputs": [
    {
     "data": {
      "image/png": "[encoded data removed]",
      "text/plain": [
       "<matplotlib.figure.Figure at 0x212c7025a58>"
      ]
     },
     "metadata": {},
     "output_type": "display_data"
    }
   ],
   "source": []
  },
  {
   "cell_type": "markdown",
   "metadata": {},
   "source": [
    "## 05. 학습 곡선(learning curve)\n",
    "<pre>\n",
    "(1) alpha의 값을 고정하고, 훈련 데이터의 크기를 변화시킨다.\n",
    "보스턴 주택가격 데이터 셋에서 여러가지 크기로 샘플링하여 LinearRegression과 Ridge(alpha=1)을 적용시킨 것.\n",
    "</pre>"
   ]
  },
  {
   "cell_type": "code",
   "execution_count": 68,
   "metadata": {},
   "outputs": [
    {
     "data": {
      "image/png": "[encoded data removed]",
      "text/plain": [
       "<matplotlib.figure.Figure at 0x212c4c77668>"
      ]
     },
     "metadata": {},
     "output_type": "display_data"
    }
   ],
   "source": [
    "import mglearn\n",
    "mglearn.plots.plot_ridge_n_samples()"
   ]
  },
  {
   "cell_type": "markdown",
   "metadata": {},
   "source": [
    "<pre>\n",
    "(가) 릿지에는 규제가 적용되므로 릿지의 훈련 데이터 점수가 전체적으로 선형 회귀 훈련 데이터 점수보다 낮다.\n",
    "(나) 테스트 데이터에서는 릿지의 점수가 더 높으며 특별히 작은 데이터 셋에서는 더 그렇다.\n",
    "</pre>"
   ]
  },
  {
   "cell_type": "markdown",
   "metadata": {},
   "source": [
    "###  상세 내용 참조\n",
    "http://statweb.stanford.edu/~tibs/sta305files/Rudyregularization.pdf"
   ]
  },
  {
   "cell_type": "code",
   "execution_count": null,
   "metadata": {
    "collapsed": true
   },
   "outputs": [],
   "source": []
  }
 ],
 "metadata": {
  "kernelspec": {
   "display_name": "Python 3",
   "language": "python",
   "name": "python3"
  },
  "language_info": {
   "codemirror_mode": {
    "name": "ipython",
    "version": 3
   },
   "file_extension": ".py",
   "mimetype": "text/x-python",
   "name": "python",
   "nbconvert_exporter": "python",
   "pygments_lexer": "ipython3",
   "version": "3.6.1"
  }
 },
 "nbformat": 4,
 "nbformat_minor": 2
}
