{
 "cells": [
  {
   "cell_type": "markdown",
   "metadata": {},
   "source": [
    "## dendrogram 확인"
   ]
  },
  {
   "cell_type": "markdown",
   "metadata": {},
   "source": [
    "### 학습 내용\n",
    "<pre>\n",
    "(가) dendrogram 을 실습을 통해 확인해 보기\n",
    "</pre>"
   ]
  },
  {
   "cell_type": "markdown",
   "metadata": {},
   "source": [
    "### dendrogram이란?\n",
    "<pre>\n",
    "계층 군집을 시각화하는데 사용되는 도구(dendrogram)\n",
    "</pre>"
   ]
  },
  {
   "cell_type": "code",
   "execution_count": 4,
   "metadata": {},
   "outputs": [],
   "source": [
    "from scipy.cluster.hierarchy import dendrogram, ward\n",
    "\n",
    "import matplotlib.pyplot as plt\n",
    "import numpy as np\n",
    "import pandas as pd\n",
    "from sklearn.datasets import make_blobs"
   ]
  },
  {
   "cell_type": "code",
   "execution_count": 2,
   "metadata": {},
   "outputs": [
    {
     "data": {
      "text/plain": [
       "Index(['label', 'x', 'y'], dtype='object')"
      ]
     },
     "execution_count": 2,
     "metadata": {},
     "output_type": "execute_result"
    }
   ],
   "source": [
    "X, y = make_blobs(random_state=0, n_samples=12)\n",
    "df = pd.DataFrame(dict(x=X[:,0], y=X[:,1], label=y))\n",
    "df.columns"
   ]
  },
  {
   "cell_type": "code",
   "execution_count": 3,
   "metadata": {},
   "outputs": [
    {
     "data": {
      "text/html": [
       "<div>\n",
       "<style scoped>\n",
       "    .dataframe tbody tr th:only-of-type {\n",
       "        vertical-align: middle;\n",
       "    }\n",
       "\n",
       "    .dataframe tbody tr th {\n",
       "        vertical-align: top;\n",
       "    }\n",
       "\n",
       "    .dataframe thead th {\n",
       "        text-align: right;\n",
       "    }\n",
       "</style>\n",
       "<table border=\"1\" class=\"dataframe\">\n",
       "  <thead>\n",
       "    <tr style=\"text-align: right;\">\n",
       "      <th></th>\n",
       "      <th>label</th>\n",
       "      <th>x</th>\n",
       "      <th>y</th>\n",
       "    </tr>\n",
       "  </thead>\n",
       "  <tbody>\n",
       "    <tr>\n",
       "      <th>0</th>\n",
       "      <td>1</td>\n",
       "      <td>3.549347</td>\n",
       "      <td>0.692505</td>\n",
       "    </tr>\n",
       "    <tr>\n",
       "      <th>1</th>\n",
       "      <td>0</td>\n",
       "      <td>1.926358</td>\n",
       "      <td>4.152430</td>\n",
       "    </tr>\n",
       "    <tr>\n",
       "      <th>2</th>\n",
       "      <td>2</td>\n",
       "      <td>0.005875</td>\n",
       "      <td>4.387241</td>\n",
       "    </tr>\n",
       "    <tr>\n",
       "      <th>3</th>\n",
       "      <td>0</td>\n",
       "      <td>1.120314</td>\n",
       "      <td>5.758061</td>\n",
       "    </tr>\n",
       "    <tr>\n",
       "      <th>4</th>\n",
       "      <td>0</td>\n",
       "      <td>1.737308</td>\n",
       "      <td>4.425462</td>\n",
       "    </tr>\n",
       "    <tr>\n",
       "      <th>5</th>\n",
       "      <td>1</td>\n",
       "      <td>2.368335</td>\n",
       "      <td>0.043568</td>\n",
       "    </tr>\n",
       "    <tr>\n",
       "      <th>6</th>\n",
       "      <td>1</td>\n",
       "      <td>-0.497722</td>\n",
       "      <td>1.551282</td>\n",
       "    </tr>\n",
       "    <tr>\n",
       "      <th>7</th>\n",
       "      <td>2</td>\n",
       "      <td>-1.481145</td>\n",
       "      <td>2.730698</td>\n",
       "    </tr>\n",
       "    <tr>\n",
       "      <th>8</th>\n",
       "      <td>0</td>\n",
       "      <td>0.873051</td>\n",
       "      <td>4.714386</td>\n",
       "    </tr>\n",
       "    <tr>\n",
       "      <th>9</th>\n",
       "      <td>2</td>\n",
       "      <td>-0.662468</td>\n",
       "      <td>2.175717</td>\n",
       "    </tr>\n",
       "    <tr>\n",
       "      <th>10</th>\n",
       "      <td>2</td>\n",
       "      <td>0.742851</td>\n",
       "      <td>1.463517</td>\n",
       "    </tr>\n",
       "    <tr>\n",
       "      <th>11</th>\n",
       "      <td>1</td>\n",
       "      <td>2.499131</td>\n",
       "      <td>1.231338</td>\n",
       "    </tr>\n",
       "  </tbody>\n",
       "</table>\n",
       "</div>"
      ],
      "text/plain": [
       "    label         x         y\n",
       "0       1  3.549347  0.692505\n",
       "1       0  1.926358  4.152430\n",
       "2       2  0.005875  4.387241\n",
       "3       0  1.120314  5.758061\n",
       "4       0  1.737308  4.425462\n",
       "5       1  2.368335  0.043568\n",
       "6       1 -0.497722  1.551282\n",
       "7       2 -1.481145  2.730698\n",
       "8       0  0.873051  4.714386\n",
       "9       2 -0.662468  2.175717\n",
       "10      2  0.742851  1.463517\n",
       "11      1  2.499131  1.231338"
      ]
     },
     "execution_count": 3,
     "metadata": {},
     "output_type": "execute_result"
    }
   ],
   "source": [
    "df"
   ]
  },
  {
   "cell_type": "code",
   "execution_count": 20,
   "metadata": {},
   "outputs": [
    {
     "name": "stdout",
     "output_type": "stream",
     "text": [
      "(0.0, 120.0)\n"
     ]
    },
    {
     "data": {
      "text/plain": [
       "[<matplotlib.lines.Line2D at 0x1732ecc4f98>]"
      ]
     },
     "execution_count": 20,
     "metadata": {},
     "output_type": "execute_result"
    },
    {
     "data": {
      "image/png": "[encoded data removed]",
      "text/plain": [
       "<matplotlib.figure.Figure at 0x1732ec55978>"
      ]
     },
     "metadata": {},
     "output_type": "display_data"
    }
   ],
   "source": [
    "# 데이터 배열 X에 ward 함수 적용\n",
    "linkage_array= ward(df[['x','y']])\n",
    "linkage_array\n",
    "# Scipy의 ward 함수는 병합 군집을 수행 시, 생성된 거리 정보가 담긴 배열 반환\n",
    "dendrogram(linkage_array)\n",
    "\n",
    "## 두 개와 세 개의 클러스터를 구분하는 커트라인 표시\n",
    "ax = plt.gca()                                 # 현재 그래프의 극축을 얻는다.\n",
    "bounds = ax.get_xbound()                       # ax의 x축의 길이(범위)를 알려준다.\n",
    "print(bounds)\n",
    "ax.plot(bounds, [7.25 , 7.45], '--', c='b')   # 파란색(y의 값 왼쪽 7.25, 오른쪽 7.45)\n",
    "ax.plot(bounds, [4,4], '--', c='g')           # 녹색  (y의 값 왼쪽 4, 오른쪽 4)\n",
    "\n",
    "#  ax.plot((0,30), [2,2], '--', c='g')           # 녹색  (y의 값 왼쪽 4, 오른쪽 4)"
   ]
  },
  {
   "cell_type": "code",
   "execution_count": 27,
   "metadata": {},
   "outputs": [
    {
     "data": {
      "text/plain": [
       "{'color_list': ['g', 'g', 'g', 'g', 'r', 'r', 'c', 'c', 'c', 'b', 'b'],\n",
       " 'dcoord': [[0.0, 0.3320945047164902, 0.3320945047164902, 0.0],\n",
       "  [0.0, 0.9268322277319817, 0.9268322277319817, 0.0],\n",
       "  [0.0, 1.6004181164464242, 1.6004181164464242, 0.9268322277319817],\n",
       "  [0.3320945047164902,\n",
       "   2.078157949404743,\n",
       "   2.078157949404743,\n",
       "   1.6004181164464242],\n",
       "  [0.0, 1.1803786988620995, 1.1803786988620995, 0.0],\n",
       "  [0.0, 1.3031157463723073, 1.3031157463723073, 1.1803786988620995],\n",
       "  [0.0, 0.6458019336639491, 0.6458019336639491, 0.0],\n",
       "  [0.0, 1.4440338959892802, 1.4440338959892802, 0.6458019336639491],\n",
       "  [0.0, 2.1598188624745154, 2.1598188624745154, 1.4440338959892802],\n",
       "  [1.3031157463723073,\n",
       "   6.550248535823649,\n",
       "   6.550248535823649,\n",
       "   2.1598188624745154],\n",
       "  [2.078157949404743,\n",
       "   7.924468768378964,\n",
       "   7.924468768378964,\n",
       "   6.550248535823649]],\n",
       " 'icoord': [[5.0, 5.0, 15.0, 15.0],\n",
       "  [35.0, 35.0, 45.0, 45.0],\n",
       "  [25.0, 25.0, 40.0, 40.0],\n",
       "  [10.0, 10.0, 32.5, 32.5],\n",
       "  [65.0, 65.0, 75.0, 75.0],\n",
       "  [55.0, 55.0, 70.0, 70.0],\n",
       "  [105.0, 105.0, 115.0, 115.0],\n",
       "  [95.0, 95.0, 110.0, 110.0],\n",
       "  [85.0, 85.0, 102.5, 102.5],\n",
       "  [62.5, 62.5, 93.75, 93.75],\n",
       "  [21.25, 21.25, 78.125, 78.125]],\n",
       " 'ivl': ['1', '4', '3', '2', '8', '5', '0', '11', '10', '7', '6', '9'],\n",
       " 'leaves': [1, 4, 3, 2, 8, 5, 0, 11, 10, 7, 6, 9]}"
      ]
     },
     "execution_count": 27,
     "metadata": {},
     "output_type": "execute_result"
    },
    {
     "data": {
      "image/png": "[encoded data removed]",
      "text/plain": [
       "<matplotlib.figure.Figure at 0x1e5a6baa160>"
      ]
     },
     "metadata": {},
     "output_type": "display_data"
    }
   ],
   "source": [
    "### 그래프 설명\n",
    "# 데이터 배열 X에 ward 함수 적용\n",
    "linkage_array= ward(df[['x','y']])\n",
    "# Scipy의 ward 함수는 병합 군집을 수행 시, 생성된 거리 정보가 담긴 배열 반환\n",
    "dendrogram(linkage_array)"
   ]
  },
  {
   "cell_type": "code",
   "execution_count": null,
   "metadata": {},
   "outputs": [],
   "source": []
  }
 ],
 "metadata": {
  "kernelspec": {
   "display_name": "Python 3",
   "language": "python",
   "name": "python3"
  },
  "language_info": {
   "codemirror_mode": {
    "name": "ipython",
    "version": 3
   },
   "file_extension": ".py",
   "mimetype": "text/x-python",
   "name": "python",
   "nbconvert_exporter": "python",
   "pygments_lexer": "ipython3",
   "version": "3.6.4"
  }
 },
 "nbformat": 4,
 "nbformat_minor": 2
}
