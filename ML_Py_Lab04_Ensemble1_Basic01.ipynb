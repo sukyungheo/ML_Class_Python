{
 "cells": [
  {
   "cell_type": "markdown",
   "metadata": {},
   "source": [
    "## 01. 앙상블 기본- 결정트리(decision tree)\n",
    "<pre>\n",
    "(가) decision tree는 classification(분류)와 regression(회귀)  문제에 널리 사용하는 모델이다.\n",
    "(나) 스무고개 놀이의 질문과 비슷하다.\n",
    "</pre>"
   ]
  },
  {
   "cell_type": "markdown",
   "metadata": {
    "collapsed": true
   },
   "source": [
    "<pre>\n",
    "graphviz 설치하기\n",
    "A. https://graphviz.gitlab.io/_pages/Download/Download_windows.html에서 프로그램 다운로드\n",
    "B. 환경변수 설정\n",
    "   제어판 > 시스템 및 보안 > 시스템 > 고급 시스템 설정 > 환경 변수\n",
    "     변수 이름 : GRAPHVIZ_DOT\n",
    "     변수 값   : C:\\Program Files (x86)\\Graphviz2.38\\bin\n",
    "C. anaconda prompt에서 'pip install GraphViz'로 설치 진행\n",
    "</pre>\n",
    "<img src=\"img/graphviz01.png\">"
   ]
  },
  {
   "cell_type": "code",
   "execution_count": 8,
   "metadata": {},
   "outputs": [],
   "source": [
    "import graphviz\n",
    "%matplotlib inline"
   ]
  },
  {
   "cell_type": "code",
   "execution_count": 9,
   "metadata": {},
   "outputs": [
    {
     "data": {
      "image/png": "[encoded data removed]",
      "text/plain": [
       "<matplotlib.figure.Figure at 0x240c3c822b0>"
      ]
     },
     "metadata": {},
     "output_type": "display_data"
    }
   ],
   "source": [
    "import mglearn\n",
    "mglearn.plots.plot_animal_tree()"
   ]
  },
  {
   "cell_type": "markdown",
   "metadata": {
    "collapsed": true
   },
   "source": [
    "### 의사결정 트리 설명\n",
    "<pre>\n",
    "(가) 세개의 변수가 있다. \n",
    "   'Has feathers?'(날개가 있나요?)\n",
    "   'Can fly?'(날수 있나요?)\n",
    "   'Has fins?'(지느러미가 있나요?)\n",
    "\n",
    "(나) 우리가 분류하고자 하는 문제는 네 개의 클래스로 구분하는 모델을 만든다.\n",
    "네 개의 클래스(매, 펭권, 돌고래, 곰)\n",
    "</pre>"
   ]
  },
  {
   "cell_type": "markdown",
   "metadata": {},
   "source": [
    "## 의사결정트리- 모델 만들기\n",
    "<pre>\n",
    "(1) 데이터 셋\n",
    "(2) 첫번째 나누기 x[1] = 0.0596\n",
    "(3) 두번째 나누기 x[0] <= 0.4177, x[0] <= 1.1957\n",
    "</pre>\n",
    "<img src=\"img/decisiontree01.png\"><br>\n",
    "<img src=\"img/decisiontree02.png\"><br>\n",
    "<img src=\"img/decisiontree03.png\"><br>\n",
    "(참조 : 파이썬을 활용한 머신러닝 그림 참조)"
   ]
  },
  {
   "cell_type": "markdown",
   "metadata": {},
   "source": [
    "### 설명\n",
    "<pre>\n",
    "(가) 의사결정트리는 반복된 프로세스에 의해 <b>테스트 노드가 하나씩</b>을 가진 \n",
    "      이진의사결정트리를 만든다. (하나의 축을 따라 데이터를 둘로 나눈다.)\n",
    "(나) 각 테스트는 <b>하나의 특성</b>에 관해서만 이루어진다.\n",
    "(다) 데이터를 분할하는 것은 결정트리 리프(leaf)가 노드가 <b>하나의 target(목표 값)</b>을 가질 때까지 반복.\n",
    "(라) Target(목표 값) 하나로만 이루어진 Leaf node(리프 노드)를 <b>순수노드(pure node)</b>라고 한다.\n",
    "</pre>"
   ]
  },
  {
   "cell_type": "markdown",
   "metadata": {},
   "source": [
    "<img src=\"img/decisiontree04.png\"><br>"
   ]
  },
  {
   "cell_type": "markdown",
   "metadata": {},
   "source": [
    "#### 새로운 데이터(test) 셋에 대한 예측은 주어진 데이터 포인트가 분할한 영역 중에 어디에 놓이는 가를 확인하면 된다."
   ]
  },
  {
   "cell_type": "markdown",
   "metadata": {},
   "source": [
    "## 회귀 문제에서의 의사결정트리(decision tree)\n",
    "<pre>\n",
    "(1) 각 노드의 테스트 결과에 따라 트리를 탐색해 나가고 새로운 데이터 포인트에 해당되는 리프 노드(leaf node)를 찾는다.\n",
    "(2) 찾은 리프 노드(leaf node)의 훈련 데이터 평균값이 이 데이터 포인트의 출력이 된다.\n",
    "</pre>"
   ]
  },
  {
   "cell_type": "markdown",
   "metadata": {},
   "source": [
    "## 의사결정 트리의 단점(복잡하다) - Overfitting\n",
    "<pre>\n",
    "(가) 리프 노드가 순수 노드가 될때까지 진행하면 \n",
    "    <b>모델이 매우 복잡해지고 훈련 데이터의 과대적합(overfitting)</b>이 된다.\n",
    "    -> 순수 노드로 이루어진 트리는 훈련 세트에 100% 정확하게 맞는다.\n",
    "</pre>\n",
    "\n"
   ]
  },
  {
   "cell_type": "markdown",
   "metadata": {},
   "source": [
    "## Overfitting(과적합)을 막는 두가지 전략\n",
    "<pre>\n",
    "(1) 트리 생성을 일찍 중단하는 전략<b>(pre-pruning) - 사전 가지치기</b>\n",
    "(2) 트리를 만든 후, \n",
    "          데이터 포인트가 적은 노드를 <b>삭제(사후 가지치기-post-pruning)</b> 하거나\n",
    "          병합하는 전략.<b>(가지치기)-pruning</b>\n",
    "</pre>"
   ]
  },
  {
   "cell_type": "markdown",
   "metadata": {},
   "source": [
    "### 그렇다면 어떻게 사전 가지치를 할 수 있을까?\n"
   ]
  },
  {
   "cell_type": "markdown",
   "metadata": {},
   "source": [
    "#######트리의 최대 깊이, 리프의 최대 개수 제한, 노드 분할을 위한 포인트의 최소 개수 지정\n",
    "######사전 가지치기만 지원, DecisionTreeRegressor, DecisionTreeClassifier"
   ]
  },
  {
   "cell_type": "markdown",
   "metadata": {},
   "source": [
    "## 실습1\n",
    "<pre>\n",
    "의사결정트리를 이용하여 데이터 셋을 나누고,\n",
    "cancer.target를 예측하는 모델을 만들어,\n",
    "훈련 세트 정확도와 테스트 세트 정확도를 만들어보자.\n",
    "--> 모델의 테스트 데이터 사이즈, 평가용 데이터 사이즈를 지정할 수 있도록 함수로 만들어보자.\n",
    "</pre>"
   ]
  },
  {
   "cell_type": "code",
   "execution_count": 15,
   "metadata": {
    "collapsed": true
   },
   "outputs": [],
   "source": [
    "from sklearn.tree import DecisionTreeClassifier\n",
    "from sklearn.model_selection import train_test_split\n",
    "from sklearn.datasets import load_breast_cancer\n",
    "\n",
    "def testTreeModel(TestSize=0.3):\n",
    "    cancer = load_breast_cancer()\n",
    "    X_train, X_test, y_train, y_test = train_test_split(cancer.data, \n",
    "                                                    cancer.target, \n",
    "                                                    stratify=cancer.target, \n",
    "                                                    test_size = TestSize,\n",
    "                                                    random_state=77)\n",
    "    tree = DecisionTreeClassifier(random_state=0)\n",
    "    tree.fit(X_train, y_train)\n",
    "    print(\"훈련 세트 정확도 : {:.3f}\".format(tree.score(X_train, y_train)))\n",
    "    print(\"테스트 세트 정확도 : {:.3f}\".format(tree.score(X_test, y_test)))\n"
   ]
  },
  {
   "cell_type": "code",
   "execution_count": 17,
   "metadata": {},
   "outputs": [
    {
     "name": "stdout",
     "output_type": "stream",
     "text": [
      "훈련 세트 정확도 : 1.000\n",
      "테스트 세트 정확도 : 0.918\n",
      "훈련 세트 정확도 : 1.000\n",
      "테스트 세트 정확도 : 0.912\n",
      "훈련 세트 정확도 : 1.000\n",
      "테스트 세트 정확도 : 0.912\n"
     ]
    }
   ],
   "source": [
    "testTreeModel(0.3)\n",
    "testTreeModel(0.1)\n",
    "testTreeModel(0.2)"
   ]
  },
  {
   "cell_type": "markdown",
   "metadata": {},
   "source": [
    "## 실습2\n",
    "<pre>\n",
    "위의 함수에 max_depth=4로 모델에 추가해보자.\n",
    "</pre>"
   ]
  },
  {
   "cell_type": "code",
   "execution_count": 18,
   "metadata": {
    "collapsed": true
   },
   "outputs": [],
   "source": [
    "def testTreeModel(TestSize=0.3, treedepth=3):\n",
    "    cancer = load_breast_cancer()\n",
    "    X_train, X_test, y_train, y_test = train_test_split(cancer.data, \n",
    "                                                    cancer.target, \n",
    "                                                    stratify=cancer.target, \n",
    "                                                    test_size = TestSize,\n",
    "                                                    random_state=77)\n",
    "    tree = DecisionTreeClassifier(max_depth=treedepth, random_state=0)\n",
    "    tree.fit(X_train, y_train)\n",
    "    print(\"훈련 세트 정확도 : {:.3f}\".format(tree.score(X_train, y_train)))\n",
    "    print(\"테스트 세트 정확도 : {:.3f}\".format(tree.score(X_test, y_test)))"
   ]
  },
  {
   "cell_type": "code",
   "execution_count": 24,
   "metadata": {},
   "outputs": [
    {
     "name": "stdout",
     "output_type": "stream",
     "text": [
      "훈련 세트 정확도 : 0.932\n",
      "테스트 세트 정확도 : 0.883\n",
      "훈련 세트 정확도 : 0.972\n",
      "테스트 세트 정확도 : 0.912\n",
      "훈련 세트 정확도 : 0.982\n",
      "테스트 세트 정확도 : 0.906\n",
      "훈련 세트 정확도 : 0.985\n",
      "테스트 세트 정확도 : 0.906\n",
      "훈련 세트 정확도 : 0.992\n",
      "테스트 세트 정확도 : 0.889\n",
      "훈련 세트 정확도 : 0.997\n",
      "테스트 세트 정확도 : 0.901\n",
      "훈련 세트 정확도 : 0.997\n",
      "테스트 세트 정확도 : 0.912\n"
     ]
    }
   ],
   "source": [
    "# testTreeModel(0.3, 1)\n",
    "# testTreeModel(0.3, 2)\n",
    "# testTreeModel(0.3, 3)\n",
    "# testTreeModel(0.3, 4)\n",
    "# testTreeModel(0.3, 5)\n",
    "# testTreeModel(0.3, 6)\n",
    "\n",
    "for i in range(1,8):\n",
    "    testTreeModel(0.3, i)"
   ]
  },
  {
   "cell_type": "code",
   "execution_count": null,
   "metadata": {
    "collapsed": true
   },
   "outputs": [],
   "source": []
  }
 ],
 "metadata": {
  "kernelspec": {
   "display_name": "Python 3",
   "language": "python",
   "name": "python3"
  },
  "language_info": {
   "codemirror_mode": {
    "name": "ipython",
    "version": 3
   },
   "file_extension": ".py",
   "mimetype": "text/x-python",
   "name": "python",
   "nbconvert_exporter": "python",
   "pygments_lexer": "ipython3",
   "version": "3.6.1"
  }
 },
 "nbformat": 4,
 "nbformat_minor": 2
}
