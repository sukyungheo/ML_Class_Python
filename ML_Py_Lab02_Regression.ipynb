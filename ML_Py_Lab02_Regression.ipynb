{
 "cells": [
  {
   "cell_type": "code",
   "execution_count": 66,
   "metadata": {
    "collapsed": true
   },
   "outputs": [],
   "source": [
    "import numpy as np\n",
    "import matplotlib.pyplot as plt\n",
    "import mglearn\n",
    "from sklearn.model_selection import train_test_split\n",
    "from sklearn.linear_model import LinearRegression\n",
    "from sklearn.preprocessing import MinMaxScaler, PolynomialFeatures\n",
    "\n",
    "%matplotlib inline "
   ]
  },
  {
   "cell_type": "markdown",
   "metadata": {},
   "source": [
    "## 1-1 make_wave 함수 만들기\n",
    "<pre>\n",
    "인자 : n_samples(기본값 100)\n",
    "내용 : 주어진 샘플의 개수에 맞는 난수를 x, y를 만들어낸다.\n",
    "       x의 차수는 2, y의 차수는 1이다.\n",
    "기능 : x는 2차, y는 1차의 값을 갖는 난수를 발생시킨다.\n",
    "</pre>"
   ]
  },
  {
   "cell_type": "code",
   "execution_count": 44,
   "metadata": {
    "collapsed": true
   },
   "outputs": [],
   "source": [
    "def make_wave(n_samples=100):\n",
    "    rnd = np.random.RandomState(42)\n",
    "    x = rnd.uniform(-3, 3, size=n_samples)\n",
    "    y_no_noise = (np.sin(4 * x) + x)\n",
    "    y = (y_no_noise + rnd.normal(size=len(x))) / 2\n",
    "    return x.reshape(-1, 1), y"
   ]
  },
  {
   "cell_type": "markdown",
   "metadata": {},
   "source": [
    "## 1-2 함수를 사용해 X, y의 값을 생성해 보기"
   ]
  },
  {
   "cell_type": "code",
   "execution_count": 45,
   "metadata": {},
   "outputs": [
    {
     "name": "stdout",
     "output_type": "stream",
     "text": [
      "(10, 1) (10,)\n",
      "float64 float64\n",
      "10 10\n",
      "2 1\n"
     ]
    }
   ],
   "source": [
    "X, y = make_wave(n_samples=10)\n",
    "print(X.shape, y.shape)\n",
    "print(X.dtype, y.dtype)\n",
    "print(X.size, y.size)\n",
    "print(X.ndim, y.ndim)\n",
    "# ndim : the number of axes (dimensions) of the array."
   ]
  },
  {
   "cell_type": "markdown",
   "metadata": {
    "collapsed": true
   },
   "source": [
    "## 02 Regression 모델을 이용한 예측 수행"
   ]
  },
  {
   "cell_type": "markdown",
   "metadata": {},
   "source": [
    "## 2-1 그래프를 통한 회귀 모델 확인해 보기\n",
    "<pre>\n",
    "(가) mglearn 안의 plots.plot_linear_regression_wave()를 이용한 회귀 모델 확인\n",
    "(나) 60개의 샘플을 생성 후, 회귀 모델을 만들어, 이를 통한 예측을 수행.\n",
    "\n",
    "아래 그래프 상세 소스 코드(plot_linear_regression_wave)는 해당 URL 참조\n",
    "</pre>\n",
    "<a href=\"https://github.com/rickiepark/introduction_to_ml_with_python/blob/master/mglearn/plot_linear_regression.py\" target=\"_blank\">plot_linear_regression 소스 코드</a>"
   ]
  },
  {
   "cell_type": "code",
   "execution_count": 49,
   "metadata": {},
   "outputs": [
    {
     "name": "stdout",
     "output_type": "stream",
     "text": [
      "w[0]: 0.393906  b: -0.031804\n"
     ]
    },
    {
     "data": {
      "image/png": "[encoded data removed]",
      "text/plain": [
       "<matplotlib.figure.Figure at 0x14e410c6e48>"
      ]
     },
     "metadata": {},
     "output_type": "display_data"
    }
   ],
   "source": [
    "mglearn.plots.plot_linear_regression_wave()"
   ]
  },
  {
   "cell_type": "markdown",
   "metadata": {
    "collapsed": true
   },
   "source": [
    "## 2-2 회귀 모델 만들어보기\n",
    "<pre>\n",
    "(가) 60개의 샘플 생성\n",
    "(나) 데이터 셋 나누기\n",
    "(다) 회귀 모델 학습\n",
    "(라) 가중치 확인\n",
    "(마) score 확인\n",
    "</pre>"
   ]
  },
  {
   "cell_type": "code",
   "execution_count": 103,
   "metadata": {
    "collapsed": true
   },
   "outputs": [],
   "source": [
    "from sklearn.model_selection import train_test_split\n",
    "from sklearn.linear_model import LinearRegression\n",
    "\n",
    "X, y = make_wave(n_samples=60)\n",
    "X_train, X_test, y_train, y_test = train_test_split(X, y, random_state=42)\n",
    "lr = LinearRegression().fit(X_train, y_train)"
   ]
  },
  {
   "cell_type": "markdown",
   "metadata": {},
   "source": [
    "#### (가) 가중치(weight) 또는 계수\n",
    "<pre>\n",
    "Note : coef_와 intercept_ 뒤의 밑줄은 scikit-learn은 훈련데이터에서 유도된 속성(값)은 항상 끝에 밑줄을 붙입니다.\n",
    "이유 : 사용자 지정한 매개변수와 구분하기 위해서\n",
    "</pre>"
   ]
  },
  {
   "cell_type": "code",
   "execution_count": 104,
   "metadata": {},
   "outputs": [
    {
     "name": "stdout",
     "output_type": "stream",
     "text": [
      "lr.coef_ : [ 0.39390555]\n",
      "lr.intercept_ : -0.03180434302675973\n"
     ]
    }
   ],
   "source": [
    "print(\"lr.coef_ : {}\".format(lr.coef_))\n",
    "print(\"lr.intercept_ : {}\".format(lr.intercept_))"
   ]
  },
  {
   "cell_type": "markdown",
   "metadata": {},
   "source": [
    "#### (나) 훈련 데이터 세트와 테스트 데이터 세트 점수"
   ]
  },
  {
   "cell_type": "code",
   "execution_count": 105,
   "metadata": {},
   "outputs": [
    {
     "name": "stdout",
     "output_type": "stream",
     "text": [
      "훈련 데이터 세트 점수 : 0.67\n",
      "테스트 데이터 세트 점수 : 0.66\n"
     ]
    }
   ],
   "source": [
    "print(\"훈련 데이터 세트 점수 : {:.2f}\".format(lr.score(X_train, y_train)))\n",
    "print(\"테스트 데이터 세트 점수 : {:.2f}\".format(lr.score(X_test, y_test)))"
   ]
  },
  {
   "cell_type": "markdown",
   "metadata": {},
   "source": [
    "## 03 Boston 데이터 셋 회귀 모델 적용\n",
    "<pre>\n",
    "(가) MinMaxScaler를 이용하여 데이터 값의 정규화(0~1)를 수행한다.\n",
    "(나) 데이터 셋을 확장시키기(PolynomialFeatures 함수이용)\n",
    "(다) load_extended_boston() 함수 만들기\n",
    "(라) 점수 확인\n",
    "</pre>"
   ]
  },
  {
   "cell_type": "code",
   "execution_count": 107,
   "metadata": {},
   "outputs": [
    {
     "data": {
      "text/plain": [
       "(506, 104)"
      ]
     },
     "execution_count": 107,
     "metadata": {},
     "output_type": "execute_result"
    }
   ],
   "source": [
    "from sklearn.datasets import load_boston\n",
    "\n",
    "boston = load_boston()  # 데이터 셋 불러오기\n",
    "X1 = MinMaxScaler().fit_transform(boston.data)  # 입력 데이터 정규화\n",
    "X = PolynomialFeatures(degree=2, include_bias=False).fit_transform(X1)\n",
    "X.shape"
   ]
  },
  {
   "cell_type": "markdown",
   "metadata": {},
   "source": [
    "### (나) load_extended_boston() 함수 생성해 두기"
   ]
  },
  {
   "cell_type": "code",
   "execution_count": 110,
   "metadata": {
    "collapsed": true
   },
   "outputs": [],
   "source": [
    "def load_extended_boston():\n",
    "    boston = load_boston()  # 데이터 셋 불러오기\n",
    "    X = boston.data         # 입력 데이터 \n",
    "    \n",
    "    X = MinMaxScaler().fit_transform(boston.data)  # 입력 데이터 정규화\n",
    "    # PolynomialFeatures 적용전\n",
    "    print(X.shape, y.shape)\n",
    "    X = PolynomialFeatures(degree=2, include_bias=False).fit_transform(X)\n",
    "    return X, boston.target"
   ]
  },
  {
   "cell_type": "markdown",
   "metadata": {},
   "source": [
    "### 확장된 boston 데이터 셋"
   ]
  },
  {
   "cell_type": "code",
   "execution_count": 111,
   "metadata": {},
   "outputs": [
    {
     "name": "stdout",
     "output_type": "stream",
     "text": [
      "(506, 13) (506,)\n",
      "(506, 104) (506,)\n"
     ]
    }
   ],
   "source": [
    "X, y = load_extended_boston()\n",
    "print(X.shape, y.shape)"
   ]
  },
  {
   "cell_type": "markdown",
   "metadata": {},
   "source": [
    "### 평가 확인\n",
    "<pre>\n",
    "훈련 데이터 세트 점수와 테스트 데이터 세트 점수가 많이 차이가 있다.\n",
    "즉, 모델이 과대적합되었다. \n",
    "따라서 우리는 복잡도를 제어할 수 있는 모델을 사용해야 한다.\n",
    "</pre>"
   ]
  },
  {
   "cell_type": "code",
   "execution_count": 113,
   "metadata": {},
   "outputs": [
    {
     "name": "stdout",
     "output_type": "stream",
     "text": [
      "훈련 데이터 세트 점수 : 0.94\n",
      "테스트 데이터 세트 점수 : 0.79\n"
     ]
    }
   ],
   "source": [
    "X_train, X_test, y_train, y_test = train_test_split(X, y, random_state=42)\n",
    "lr = LinearRegression().fit(X_train, y_train)\n",
    "\n",
    "print(\"훈련 데이터 세트 점수 : {:.2f}\".format(lr.score(X_train, y_train)))\n",
    "print(\"테스트 데이터 세트 점수 : {:.2f}\".format(lr.score(X_test, y_test)))"
   ]
  },
  {
   "cell_type": "markdown",
   "metadata": {},
   "source": [
    "### Reference\n",
    "<pre>\n",
    "http://taewan.kim/post/numpy_cheat_sheet/\n",
    "</pre>"
   ]
  },
  {
   "cell_type": "code",
   "execution_count": null,
   "metadata": {
    "collapsed": true
   },
   "outputs": [],
   "source": []
  }
 ],
 "metadata": {
  "kernelspec": {
   "display_name": "Python 3",
   "language": "python",
   "name": "python3"
  },
  "language_info": {
   "codemirror_mode": {
    "name": "ipython",
    "version": 3
   },
   "file_extension": ".py",
   "mimetype": "text/x-python",
   "name": "python",
   "nbconvert_exporter": "python",
   "pygments_lexer": "ipython3",
   "version": "3.6.1"
  }
 },
 "nbformat": 4,
 "nbformat_minor": 2
}
