{
 "cells": [
  {
   "cell_type": "markdown",
   "metadata": {},
   "source": [
    "## 01 make_blobs\n",
    "<pre>\n",
    "sklean에서 샘플 데이터 셋을 만들기 위해 사용한다.\n",
    "</pre>"
   ]
  },
  {
   "cell_type": "code",
   "execution_count": 1,
   "metadata": {},
   "outputs": [],
   "source": [
    "import matplotlib.pyplot as plt"
   ]
  },
  {
   "cell_type": "code",
   "execution_count": 2,
   "metadata": {},
   "outputs": [],
   "source": [
    "from sklearn.datasets import make_blobs\n",
    "X, y = make_blobs(random_state=0, n_samples=12)  # random_state = 0 적용 "
   ]
  },
  {
   "cell_type": "code",
   "execution_count": 5,
   "metadata": {},
   "outputs": [
    {
     "name": "stdout",
     "output_type": "stream",
     "text": [
      "(12, 2) (12,)\n"
     ]
    }
   ],
   "source": [
    "print(X.shape, y.shape)  # X와 y의 형태 확인"
   ]
  },
  {
   "cell_type": "code",
   "execution_count": 4,
   "metadata": {},
   "outputs": [
    {
     "name": "stdout",
     "output_type": "stream",
     "text": [
      "[[ 3.54934659  0.6925054 ]\n",
      " [ 1.9263585   4.15243012]\n",
      " [ 0.0058752   4.38724103]\n",
      " [ 1.12031365  5.75806083]\n",
      " [ 1.7373078   4.42546234]\n",
      " [ 2.36833522  0.04356792]\n",
      " [-0.49772229  1.55128226]\n",
      " [-1.4811455   2.73069841]\n",
      " [ 0.87305123  4.71438583]\n",
      " [-0.66246781  2.17571724]\n",
      " [ 0.74285061  1.46351659]\n",
      " [ 2.49913075  1.23133799]] [1 0 2 0 0 1 1 2 0 2 2 1]\n"
     ]
    }
   ],
   "source": [
    "print(X, y)"
   ]
  },
  {
   "cell_type": "code",
   "execution_count": 7,
   "metadata": {},
   "outputs": [
    {
     "data": {
      "text/html": [
       "<div>\n",
       "<style scoped>\n",
       "    .dataframe tbody tr th:only-of-type {\n",
       "        vertical-align: middle;\n",
       "    }\n",
       "\n",
       "    .dataframe tbody tr th {\n",
       "        vertical-align: top;\n",
       "    }\n",
       "\n",
       "    .dataframe thead th {\n",
       "        text-align: right;\n",
       "    }\n",
       "</style>\n",
       "<table border=\"1\" class=\"dataframe\">\n",
       "  <thead>\n",
       "    <tr style=\"text-align: right;\">\n",
       "      <th></th>\n",
       "      <th>label</th>\n",
       "      <th>x</th>\n",
       "      <th>y</th>\n",
       "    </tr>\n",
       "  </thead>\n",
       "  <tbody>\n",
       "    <tr>\n",
       "      <th>0</th>\n",
       "      <td>1</td>\n",
       "      <td>3.549347</td>\n",
       "      <td>0.692505</td>\n",
       "    </tr>\n",
       "    <tr>\n",
       "      <th>1</th>\n",
       "      <td>0</td>\n",
       "      <td>1.926358</td>\n",
       "      <td>4.152430</td>\n",
       "    </tr>\n",
       "    <tr>\n",
       "      <th>2</th>\n",
       "      <td>2</td>\n",
       "      <td>0.005875</td>\n",
       "      <td>4.387241</td>\n",
       "    </tr>\n",
       "    <tr>\n",
       "      <th>3</th>\n",
       "      <td>0</td>\n",
       "      <td>1.120314</td>\n",
       "      <td>5.758061</td>\n",
       "    </tr>\n",
       "    <tr>\n",
       "      <th>4</th>\n",
       "      <td>0</td>\n",
       "      <td>1.737308</td>\n",
       "      <td>4.425462</td>\n",
       "    </tr>\n",
       "    <tr>\n",
       "      <th>5</th>\n",
       "      <td>1</td>\n",
       "      <td>2.368335</td>\n",
       "      <td>0.043568</td>\n",
       "    </tr>\n",
       "    <tr>\n",
       "      <th>6</th>\n",
       "      <td>1</td>\n",
       "      <td>-0.497722</td>\n",
       "      <td>1.551282</td>\n",
       "    </tr>\n",
       "    <tr>\n",
       "      <th>7</th>\n",
       "      <td>2</td>\n",
       "      <td>-1.481145</td>\n",
       "      <td>2.730698</td>\n",
       "    </tr>\n",
       "    <tr>\n",
       "      <th>8</th>\n",
       "      <td>0</td>\n",
       "      <td>0.873051</td>\n",
       "      <td>4.714386</td>\n",
       "    </tr>\n",
       "    <tr>\n",
       "      <th>9</th>\n",
       "      <td>2</td>\n",
       "      <td>-0.662468</td>\n",
       "      <td>2.175717</td>\n",
       "    </tr>\n",
       "    <tr>\n",
       "      <th>10</th>\n",
       "      <td>2</td>\n",
       "      <td>0.742851</td>\n",
       "      <td>1.463517</td>\n",
       "    </tr>\n",
       "    <tr>\n",
       "      <th>11</th>\n",
       "      <td>1</td>\n",
       "      <td>2.499131</td>\n",
       "      <td>1.231338</td>\n",
       "    </tr>\n",
       "  </tbody>\n",
       "</table>\n",
       "</div>"
      ],
      "text/plain": [
       "    label         x         y\n",
       "0       1  3.549347  0.692505\n",
       "1       0  1.926358  4.152430\n",
       "2       2  0.005875  4.387241\n",
       "3       0  1.120314  5.758061\n",
       "4       0  1.737308  4.425462\n",
       "5       1  2.368335  0.043568\n",
       "6       1 -0.497722  1.551282\n",
       "7       2 -1.481145  2.730698\n",
       "8       0  0.873051  4.714386\n",
       "9       2 -0.662468  2.175717\n",
       "10      2  0.742851  1.463517\n",
       "11      1  2.499131  1.231338"
      ]
     },
     "execution_count": 7,
     "metadata": {},
     "output_type": "execute_result"
    }
   ],
   "source": [
    "import pandas as pd\n",
    "df = pd.DataFrame(dict(x=X[:,0], y=X[:,1], label=y))\n",
    "df"
   ]
  },
  {
   "cell_type": "code",
   "execution_count": 9,
   "metadata": {},
   "outputs": [
    {
     "data": {
      "text/html": [
       "<div>\n",
       "<style scoped>\n",
       "    .dataframe tbody tr th:only-of-type {\n",
       "        vertical-align: middle;\n",
       "    }\n",
       "\n",
       "    .dataframe tbody tr th {\n",
       "        vertical-align: top;\n",
       "    }\n",
       "\n",
       "    .dataframe thead th {\n",
       "        text-align: right;\n",
       "    }\n",
       "</style>\n",
       "<table border=\"1\" class=\"dataframe\">\n",
       "  <thead>\n",
       "    <tr style=\"text-align: right;\">\n",
       "      <th></th>\n",
       "      <th>x</th>\n",
       "      <th>y</th>\n",
       "    </tr>\n",
       "  </thead>\n",
       "  <tbody>\n",
       "    <tr>\n",
       "      <th>0</th>\n",
       "      <td>3.549347</td>\n",
       "      <td>0.692505</td>\n",
       "    </tr>\n",
       "    <tr>\n",
       "      <th>1</th>\n",
       "      <td>1.926358</td>\n",
       "      <td>4.152430</td>\n",
       "    </tr>\n",
       "    <tr>\n",
       "      <th>2</th>\n",
       "      <td>0.005875</td>\n",
       "      <td>4.387241</td>\n",
       "    </tr>\n",
       "    <tr>\n",
       "      <th>3</th>\n",
       "      <td>1.120314</td>\n",
       "      <td>5.758061</td>\n",
       "    </tr>\n",
       "    <tr>\n",
       "      <th>4</th>\n",
       "      <td>1.737308</td>\n",
       "      <td>4.425462</td>\n",
       "    </tr>\n",
       "    <tr>\n",
       "      <th>5</th>\n",
       "      <td>2.368335</td>\n",
       "      <td>0.043568</td>\n",
       "    </tr>\n",
       "    <tr>\n",
       "      <th>6</th>\n",
       "      <td>-0.497722</td>\n",
       "      <td>1.551282</td>\n",
       "    </tr>\n",
       "    <tr>\n",
       "      <th>7</th>\n",
       "      <td>-1.481145</td>\n",
       "      <td>2.730698</td>\n",
       "    </tr>\n",
       "    <tr>\n",
       "      <th>8</th>\n",
       "      <td>0.873051</td>\n",
       "      <td>4.714386</td>\n",
       "    </tr>\n",
       "    <tr>\n",
       "      <th>9</th>\n",
       "      <td>-0.662468</td>\n",
       "      <td>2.175717</td>\n",
       "    </tr>\n",
       "    <tr>\n",
       "      <th>10</th>\n",
       "      <td>0.742851</td>\n",
       "      <td>1.463517</td>\n",
       "    </tr>\n",
       "    <tr>\n",
       "      <th>11</th>\n",
       "      <td>2.499131</td>\n",
       "      <td>1.231338</td>\n",
       "    </tr>\n",
       "  </tbody>\n",
       "</table>\n",
       "</div>"
      ],
      "text/plain": [
       "           x         y\n",
       "0   3.549347  0.692505\n",
       "1   1.926358  4.152430\n",
       "2   0.005875  4.387241\n",
       "3   1.120314  5.758061\n",
       "4   1.737308  4.425462\n",
       "5   2.368335  0.043568\n",
       "6  -0.497722  1.551282\n",
       "7  -1.481145  2.730698\n",
       "8   0.873051  4.714386\n",
       "9  -0.662468  2.175717\n",
       "10  0.742851  1.463517\n",
       "11  2.499131  1.231338"
      ]
     },
     "execution_count": 9,
     "metadata": {},
     "output_type": "execute_result"
    }
   ],
   "source": [
    "X, y = make_blobs(random_state=0, n_samples=12)\n",
    "df = pd.DataFrame(dict(x=X[:,0], y=X[:,1], label=y))\n",
    "df.columns\n",
    "df[['x','y']]"
   ]
  },
  {
   "cell_type": "code",
   "execution_count": 13,
   "metadata": {},
   "outputs": [
    {
     "name": "stdout",
     "output_type": "stream",
     "text": [
      "(11, 4)\n",
      "[[ 1.          4.          0.3320945   2.        ]\n",
      " [ 6.          9.          0.64580193  2.        ]\n",
      " [ 2.          8.          0.92683223  2.        ]\n",
      " [ 0.         11.          1.1803787   2.        ]\n",
      " [ 5.         15.          1.30311575  3.        ]\n",
      " [ 7.         13.          1.4440339   3.        ]\n",
      " [ 3.         14.          1.60041812  3.        ]\n",
      " [12.         18.          2.07815795  5.        ]\n",
      " [10.         17.          2.15981886  4.        ]\n",
      " [16.         20.          6.55024854  7.        ]\n",
      " [19.         21.          7.92446877 12.        ]]\n"
     ]
    }
   ],
   "source": [
    "from scipy.cluster.hierarchy import dendrogram, ward\n",
    "\n",
    "# 데이터 배열 X에 ward 함수 적용\n",
    "linkage_array= ward(df[['x','y']])\n",
    "print(linkage_array.shape)\n",
    "print(linkage_array)"
   ]
  },
  {
   "cell_type": "code",
   "execution_count": 15,
   "metadata": {},
   "outputs": [],
   "source": [
    "## `labels_` : array [n_features]\n",
    "## `n_leaves_` : i\n",
    "## `n_components_` : int\n",
    "## `children_` : array-like, shape = [n_nodes, 2]"
   ]
  },
  {
   "cell_type": "code",
   "execution_count": null,
   "metadata": {},
   "outputs": [],
   "source": [
    "##  "
   ]
  }
 ],
 "metadata": {
  "kernelspec": {
   "display_name": "Python 3",
   "language": "python",
   "name": "python3"
  },
  "language_info": {
   "codemirror_mode": {
    "name": "ipython",
    "version": 3
   },
   "file_extension": ".py",
   "mimetype": "text/x-python",
   "name": "python",
   "nbconvert_exporter": "python",
   "pygments_lexer": "ipython3",
   "version": "3.6.4"
  }
 },
 "nbformat": 4,
 "nbformat_minor": 2
}
