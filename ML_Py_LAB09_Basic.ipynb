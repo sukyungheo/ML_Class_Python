{
 "cells": [
  {
   "cell_type": "markdown",
   "metadata": {},
   "source": [
    "### 01. 군집 알고리즘의 비교와 평가"
   ]
  },
  {
   "cell_type": "markdown",
   "metadata": {},
   "source": [
    "## ARI \n",
    "<pre>\n",
    "1(최적일 때)와 0(무작위로 분류될 때) 사이의 값을 제공한다. ARI(adjusted rand index)\n",
    "\n",
    "(가) 무작위로 클러스터에 포인터를 할당하면 ARI는 0에 가까워진다.\n",
    "(나) ARI 값의 범위를 -1~1 로 설명한다. 단, 최저값에 대한 근거를 찾을 수 없고, ARI 공식으로 분석하면 -0.5가 최저값으로 보인다.\n",
    "(옮긴이 주석)\n",
    "https://goo.gl/hdCYNe\n",
    "(다) ARI NMI 같은 지표는 애플리케이션의 성능 평가가 아니라 알고리즘 개발할 때 도움이 된다.\n",
    "</pre>"
   ]
  },
  {
   "cell_type": "code",
   "execution_count": null,
   "metadata": {},
   "outputs": [],
   "source": []
  }
 ],
 "metadata": {
  "kernelspec": {
   "display_name": "Python 3",
   "language": "python",
   "name": "python3"
  },
  "language_info": {
   "codemirror_mode": {
    "name": "ipython",
    "version": 3
   },
   "file_extension": ".py",
   "mimetype": "text/x-python",
   "name": "python",
   "nbconvert_exporter": "python",
   "pygments_lexer": "ipython3",
   "version": "3.6.4"
  }
 },
 "nbformat": 4,
 "nbformat_minor": 2
}
